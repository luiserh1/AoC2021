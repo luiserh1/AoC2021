{
 "cells": [
  {
   "cell_type": "code",
   "execution_count": 1,
   "id": "394080da-68c4-4d9a-83ef-0a5f48b9b111",
   "metadata": {},
   "outputs": [],
   "source": [
    "from math import inf, copysign\n",
    "X = START = HORIZONTAL = 0\n",
    "Y = END = VERTICAL = 1\n",
    "DIRECTION = DIAGONAL = 2"
   ]
  },
  {
   "cell_type": "code",
   "execution_count": 2,
   "id": "3d2dcd39-9644-4a13-84b4-1e3358679219",
   "metadata": {},
   "outputs": [],
   "source": [
    "def print_data(data, num, min_nums, max_nums):\n",
    "    \"\"\"The size here represent the number of points it overlaps. That's why diagonals are 'short'\"\"\"\n",
    "    num = min(num, len(data))\n",
    "    print(\"First {} (from a total of {}) line segments:\".format(num, len(data)))\n",
    "    for segment in data[:num]:\n",
    "        desc = \"({}, {})\\t->\\t({}, {}):\\t\".format(segment[START][X], segment[START][Y], segment[END][X], segment[END][Y])\n",
    "        if segment[DIRECTION] == HORIZONTAL:\n",
    "            desc += \"HORIZONTAL of size\\t\" + str(abs(segment[START][X] - segment[END][X]))\n",
    "        elif segment[DIRECTION] == VERTICAL:\n",
    "            desc += \"VERTICAL of size\\t\" + str(abs(segment[START][Y] - segment[END][Y]))\n",
    "        else:  # segment[DIRECTION] == DIAGONAL:\n",
    "            desc += \"DIAGONAL of size\\t\" + str(abs(segment[START][Y] - segment[END][Y]))\n",
    "        print(desc)\n",
    "    print(\"The grid goes from ({},{}) to ({},{})\".format(min_nums[X], min_nums[Y], max_nums[X], max_nums[Y]))"
   ]
  },
  {
   "cell_type": "code",
   "execution_count": 3,
   "id": "b5c5f5a7-28a9-4a94-a921-964260395556",
   "metadata": {},
   "outputs": [],
   "source": [
    "def get_processed_input(input_path, data, verbose=True):\n",
    "    \"\"\"A line segment is repersented by two tuples o 2 integers (coordinates). First one is the start and the second one is the end\n",
    "    Returns the max. and min. numbers found to make easier building of the grid\"\"\"\n",
    "    with open(input_path, \"rt\") as f:\n",
    "        max_nums = (-inf, -inf)\n",
    "        min_nums = (inf, inf)\n",
    "        raw_input = f.read()\n",
    "        raw_lines = raw_input.split(\"\\n\")\n",
    "        for line in raw_lines:\n",
    "            coords_raw = line.split(\" -> \")\n",
    "            coords = [c.split(\",\") for c in coords_raw]\n",
    "            # Segment format (3-sized tuple) -> (([START][X],[START][Y]), ([END][X],[END][Y]), DIRECTION)\n",
    "            segment = [(int(coords[START][X]),int(coords[START][Y])), ((int(coords[END][X])), int(coords[END][Y])), DIAGONAL]\n",
    "            if segment[START][X] == segment[END][X]:\n",
    "                segment[DIRECTION] = VERTICAL\n",
    "            elif segment[START][Y] == segment[END][Y]:\n",
    "                segment[DIRECTION] = HORIZONTAL\n",
    "                # If it's not a VERTICAL segment, neither an HORIZONTAL one, then it's a DIAGONAL. BUT,\n",
    "                # if the angle it forms with the axis is not 45ª, then is discarded\n",
    "            elif abs(segment[START][X] - segment[END][X]) == abs(segment[START][Y] - segment[END][Y]):\n",
    "                segment[DIRECTION] = DIAGONAL\n",
    "            else:\n",
    "                if verbose:\n",
    "                    print(\"({}, {})\\t->\\t({}, {}) discarded for being digonal and not form a 45ª with the axis\".format(\n",
    "                        segment[START][X], segment[START][Y], segment[END][X], segment[END][Y]))\n",
    "            data.append(tuple(segment))\n",
    "            max_nums = (max([max_nums[X], segment[START][X], segment[END][X]]), max([max_nums[Y], segment[START][Y], segment[END][Y]]))\n",
    "            min_nums = (min([min_nums[X], segment[START][X], segment[END][X]]), min([min_nums[Y], segment[START][Y], segment[END][Y]]))\n",
    "        if verbose:\n",
    "            print_data(data, 10, min_nums, max_nums)\n",
    "        return min_nums, max_nums"
   ]
  },
  {
   "cell_type": "code",
   "execution_count": 4,
   "id": "10bec197-aabd-4487-803e-937465b5954e",
   "metadata": {},
   "outputs": [],
   "source": [
    "def draw_grid(grid, separator=\"\", zero_char=\".\", min_grid_nums=(0,0), max_grid_nums=(inf,inf)):\n",
    "    res = \"\"\n",
    "    min_grid_nums = (min(min_grid_nums[X], 0), min(min_grid_nums[Y], 0))\n",
    "    max_grid_nums = (min(max_grid_nums[X], len(grid)), min(max_grid_nums[Y], len(grid[0])))\n",
    "    for y in range(min_grid_nums[Y], max_grid_nums[Y]):\n",
    "        for x in range(min_grid_nums[X], max_grid_nums[X]):\n",
    "            if grid[x][y]:\n",
    "                res += str(grid[x][y])\n",
    "            else:\n",
    "                res += zero_char\n",
    "            if x < len(grid[0]) - 1:\n",
    "                res += separator\n",
    "        if y < len(grid[0]) - 1:\n",
    "            res += \"\\n\"\n",
    "    print(res)"
   ]
  },
  {
   "cell_type": "code",
   "execution_count": 5,
   "id": "51cc3442-5ee7-4793-94e0-3533de14d170",
   "metadata": {},
   "outputs": [],
   "source": [
    "def part_a(data, min_nums, max_nums, verbose=False):\n",
    "    full_size = (max_nums[X] - min_nums[X], max_nums[Y] - min_nums[Y])\n",
    "    grid = [[0 for i in range(full_size[X] + 1)] for j in range(full_size[Y] + 1)]\n",
    "    if verbose:\n",
    "        print(\"The size of the grid is {}x{} for a total of {} points\" .format(full_size[X], full_size[Y], full_size[X] * full_size[Y]))\n",
    "    offsets = (-min_nums[X], -min_nums[Y])  # If all the numbers are natural, these will be negative\n",
    "    \n",
    "    overlaped_points = set({})  # Probably the best way of avoiding duplicates\n",
    "    max_overlaps = 0      # debug/curiosity\n",
    "    max_overlaped = None  # debug/curiosity\n",
    "    for segment in data:\n",
    "        if segment[DIRECTION] == DIAGONAL:\n",
    "            continue\n",
    "        seg_mins = (min(segment[START][X], segment[END][X]), min(segment[START][Y], segment[END][Y]))\n",
    "        seg_maxs = (max(segment[START][X], segment[END][X]), max(segment[START][Y], segment[END][Y]))\n",
    "        for x in range(seg_mins[X], seg_maxs[X] + 1):\n",
    "            for y in range(seg_mins[Y], seg_maxs[Y] + 1):\n",
    "                grid_x = x+offsets[X]\n",
    "                grid_y = y+offsets[Y]\n",
    "                grid[grid_x][grid_y] += 1\n",
    "                overlaps = grid[grid_x][grid_y]\n",
    "                point = (x, y)\n",
    "                if overlaps > 1:\n",
    "                    overlaped_points.add(point)\n",
    "                if overlaps > max_overlaps:\n",
    "                    max_overlaps = overlaps\n",
    "                    max_overlaped = point\n",
    "    if verbose:\n",
    "        draw_grid(grid, separator=\"  \")\n",
    "    return len(overlaped_points), max_overlaped, max_overlaps"
   ]
  },
  {
   "cell_type": "code",
   "execution_count": 6,
   "id": "09ded494-c304-40b8-8c9c-2629e68668de",
   "metadata": {},
   "outputs": [],
   "source": [
    "def part_b(data, min_nums, max_nums, diagonals=False, verbose=False):\n",
    "    full_size = (max_nums[X] - min_nums[X], max_nums[Y] - min_nums[Y])\n",
    "    grid = [[0 for i in range(full_size[X] + 2)] for j in range(full_size[Y] + 1)]\n",
    "    if verbose:\n",
    "        print(\"The size of the grid is {}x{} for a total of {} points\" .format(full_size[X], full_size[Y], full_size[X] * full_size[Y]))\n",
    "    offsets = (-min_nums[X], -min_nums[Y])\n",
    "    \n",
    "    overlaped_points = set({})  # Probably the best way of avoiding duplicates\n",
    "    max_overlaps = 0      # debug/curiosity\n",
    "    max_overlaped = None  # debug/curiosity\n",
    "    for segment in data:\n",
    "        distances = (segment[END][X] - segment[START][X] , segment[END][Y] - segment[START][Y])\n",
    "        directions = [0,0]\n",
    "        if distances[X]:\n",
    "            directions[X] = copysign(1, distances[X])\n",
    "        if distances[Y]:\n",
    "            directions[Y] = copysign(1, distances[Y])\n",
    "        directions = tuple([int(diresction) for diresction in directions])  # copysing returns a float\n",
    "        for i in range(max([abs(d) for d in distances]) + 1):\n",
    "            x = segment[START][X] + i * directions[X]\n",
    "            y = segment[START][Y] + i * directions[Y]\n",
    "            grid_x = x + offsets[X]\n",
    "            grid_y = y + offsets[Y]\n",
    "            try:\n",
    "                grid[grid_x][grid_y] += 1\n",
    "                overlaps = grid[grid_x][grid_y]\n",
    "                point = (x, y)\n",
    "                if overlaps > 1:\n",
    "                    overlaped_points.add(point)\n",
    "                if overlaps > max_overlaps:\n",
    "                    max_overlaps = overlaps\n",
    "                    max_overlaped = point\n",
    "            except:\n",
    "                print(x + offsets[X], y + offsets[Y])\n",
    "    if verbose:\n",
    "        draw_grid(grid, separator=\"  \")\n",
    "    return len(overlaped_points), max_overlaped, max_overlaps"
   ]
  },
  {
   "cell_type": "code",
   "execution_count": 7,
   "id": "28a396e3-e718-4045-9bcc-928395bf6d70",
   "metadata": {},
   "outputs": [
    {
     "name": "stdout",
     "output_type": "stream",
     "text": [
      "First 10 (from a total of 500) line segments:\n",
      "(510, 771)\t->\t(510, 322):\tVERTICAL of size\t449\n",
      "(753, 99)\t->\t(753, 280):\tVERTICAL of size\t181\n",
      "(160, 330)\t->\t(33, 330):\tHORIZONTAL of size\t127\n",
      "(700, 793)\t->\t(700, 892):\tVERTICAL of size\t99\n",
      "(327, 168)\t->\t(327, 690):\tVERTICAL of size\t522\n",
      "(264, 203)\t->\t(264, 839):\tVERTICAL of size\t636\n",
      "(135, 134)\t->\t(314, 134):\tHORIZONTAL of size\t179\n",
      "(209, 759)\t->\t(41, 759):\tHORIZONTAL of size\t168\n",
      "(474, 514)\t->\t(491, 531):\tDIAGONAL of size\t17\n",
      "(977, 988)\t->\t(42, 53):\tDIAGONAL of size\t935\n",
      "The grid goes from (11,10) to (988,988)\n"
     ]
    }
   ],
   "source": [
    "data = []\n",
    "input_path = \"input.txt\"\n",
    "min_nums, max_nums = get_processed_input(input_path, data)"
   ]
  },
  {
   "cell_type": "code",
   "execution_count": 8,
   "id": "de679b71-13f1-4f07-9104-c1a9aa8bd34b",
   "metadata": {},
   "outputs": [
    {
     "name": "stdout",
     "output_type": "stream",
     "text": [
      "SOL A: [6397] points have at least two lines overlapping them, being (773, 731) the most overlapped one with a total of 3 lines\n"
     ]
    }
   ],
   "source": [
    "# There might be more points with the max. overlaps, but only the first one that reaches that value is shown\n",
    "sol_a, max_overlaped_a, max_overlaps_a = part_a(data, min_nums, max_nums, verbose=False)\n",
    "print(\"SOL A: [{}] points have at least two lines overlapping them, being ({}, {}) \\\n",
    "the most overlapped one with a total of {} lines\".format(sol_a, max_overlaped_a[0], max_overlaped_a[1], max_overlaps_a))"
   ]
  },
  {
   "cell_type": "code",
   "execution_count": 9,
   "id": "a960546c-bb82-4f0a-bbf3-07f4a1e75a7f",
   "metadata": {},
   "outputs": [
    {
     "name": "stdout",
     "output_type": "stream",
     "text": [
      "SOL B: [22335] points have at least two lines overlapping them, being (510, 516) the most overlapped one with a total of 6 lines\n"
     ]
    }
   ],
   "source": [
    "sol_b, max_overlaped_b, max_overlaps_b = part_b(data, min_nums, max_nums, diagonals=True, verbose=False)\n",
    "print(\"SOL B: [{}] points have at least two lines overlapping them, being ({}, {}) \\\n",
    "the most overlapped one with a total of {} lines\".format(sol_b, max_overlaped_b[0], max_overlaped_b[1], max_overlaps_b))"
   ]
  },
  {
   "cell_type": "markdown",
   "id": "ebd8e693-22df-4ef5-ae57-439d57ab702b",
   "metadata": {},
   "source": [
    "## TEST\n",
    "\n",
    "### A\n",
    "\n",
    "Sol = 5\n",
    "\n",
    "### B\n",
    "\n",
    "Sol = 12"
   ]
  },
  {
   "cell_type": "code",
   "execution_count": 10,
   "id": "8a1b207f-2008-4f94-87e1-025f8641a72a",
   "metadata": {},
   "outputs": [
    {
     "name": "stdout",
     "output_type": "stream",
     "text": [
      "The size of the grid is 9x9 for a total of 81 points\n",
      ".  .  .  .  .  .  .  1  .  .\n",
      ".  .  1  .  .  .  .  1  .  .\n",
      ".  .  1  .  .  .  .  1  .  .\n",
      ".  .  .  .  .  .  .  1  .  .\n",
      ".  1  1  2  1  1  1  2  1  1\n",
      ".  .  .  .  .  .  .  .  .  .\n",
      ".  .  .  .  .  .  .  .  .  .\n",
      ".  .  .  .  .  .  .  .  .  .\n",
      ".  .  .  .  .  .  .  .  .  .\n",
      "2  2  2  1  1  1  .  .  .  .\n",
      "SOL Test A: [5] points have at least two lines overlapping them, being (7, 4) the most overlapped one with a total of 2 lines\n"
     ]
    }
   ],
   "source": [
    "data_test = [\n",
    "    ((0,9),(5,9),HORIZONTAL),\n",
    "    ((8,0),(0,8),DIAGONAL),\n",
    "    ((9,4),(3,4),HORIZONTAL),\n",
    "    ((2,2),(2,1),VERTICAL),\n",
    "    ((7,0),(7,4),VERTICAL),\n",
    "    ((6,4),(2,0),DIAGONAL),\n",
    "    ((0,9),(2,9),HORIZONTAL),\n",
    "    ((3,4),(1,4),HORIZONTAL),\n",
    "    ((0,0),(8,8),DIAGONAL),\n",
    "    ((5,5),(8,2),DIAGONAL)\n",
    "]\n",
    "min_nums_test = (0,0)\n",
    "max_nums_test = (9,9)\n",
    "sol_test_a, max_overlaped_test_a, max_overlaps_test_a = part_a(data_test, min_nums_test, max_nums_test, verbose=True)\n",
    "print(\"SOL Test A: [{}] points have at least two lines overlapping them, being ({}, {}) \\\n",
    "the most overlapped one with a total of {} lines\".format(sol_test_a, max_overlaped_test_a[0], max_overlaped_test_a[1],\n",
    "                                                         max_overlaps_test_a))"
   ]
  },
  {
   "cell_type": "code",
   "execution_count": 11,
   "id": "691ec846-5ddf-4f47-8a72-971cc52bedcb",
   "metadata": {},
   "outputs": [
    {
     "name": "stdout",
     "output_type": "stream",
     "text": [
      "The size of the grid is 9x9 for a total of 81 points\n",
      "1  .  1  .  .  .  .  1  1  .  \n",
      ".  1  1  1  .  .  .  2  .  .  \n",
      ".  .  2  .  1  .  1  1  1  .  \n",
      ".  .  .  1  .  2  .  2  .  .  \n",
      ".  1  1  2  3  1  3  2  1  1  \n",
      ".  .  .  1  .  2  .  .  .  .  \n",
      ".  .  1  .  .  .  1  .  .  .  \n",
      ".  1  .  .  .  .  .  1  .  .  \n",
      "1  .  .  .  .  .  .  .  1  .  \n",
      "2  2  2  1  1  1  .  .  .  .  \n",
      ".  .  .  .  .  .  .  .  .  .  \n",
      "SOL Test B: [12] points have at least two lines overlapping them, being (4, 4) the most overlapped one with a total of 3 lines\n"
     ]
    }
   ],
   "source": [
    "sol_test_b, max_overlaped_test_b, max_overlaps_test_b = part_b(data_test, min_nums_test, max_nums_test, verbose=True)\n",
    "print(\"SOL Test B: [{}] points have at least two lines overlapping them, being ({}, {}) \\\n",
    "the most overlapped one with a total of {} lines\".format(sol_test_b, max_overlaped_test_b[0], max_overlaped_test_b[1],\n",
    "                                                         max_overlaps_test_b))"
   ]
  },
  {
   "cell_type": "code",
   "execution_count": null,
   "id": "9ee08116-8c34-4684-970d-13e2af41123f",
   "metadata": {},
   "outputs": [],
   "source": []
  }
 ],
 "metadata": {
  "kernelspec": {
   "display_name": "Python 3 (ipykernel)",
   "language": "python",
   "name": "python3"
  },
  "language_info": {
   "codemirror_mode": {
    "name": "ipython",
    "version": 3
   },
   "file_extension": ".py",
   "mimetype": "text/x-python",
   "name": "python",
   "nbconvert_exporter": "python",
   "pygments_lexer": "ipython3",
   "version": "3.10.0"
  }
 },
 "nbformat": 4,
 "nbformat_minor": 5
}
