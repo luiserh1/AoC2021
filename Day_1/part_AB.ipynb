{
 "cells": [
  {
   "cell_type": "code",
   "execution_count": 2,
   "id": "c0bf69c4-cdf7-4259-9513-5aba9772dec3",
   "metadata": {},
   "outputs": [],
   "source": [
    "def print_data(data, num):\n",
    "\tnum_measurements = len(data)\n",
    "\tnum = min(num, num_measurements)\n",
    "\tprint(\"First {} (from a total of {}) measurements:\".format(num, num_measurements))\n",
    "\tfor depth_m in data[:num]:\n",
    "\t\tprint(depth_m)"
   ]
  },
  {
   "cell_type": "code",
   "execution_count": 3,
   "id": "6f3f8bde-1d14-4a2d-a590-b86a386377f4",
   "metadata": {},
   "outputs": [],
   "source": [
    "def get_processed_input(input_path, data):\n",
    "\t\"\"\"The data is a simple List of Integers representing the depths\"\"\"\n",
    "\twith open(input_path, \"rt\") as f:\n",
    "\t\tlines = f.readlines()\n",
    "\t\tdata += [int(depth_m) for depth_m in lines]\n",
    "\t\tprint_data(data, 10)"
   ]
  },
  {
   "cell_type": "code",
   "execution_count": 4,
   "id": "b4cf84b4-7b11-49ce-a04e-4ce33ad7d62e",
   "metadata": {},
   "outputs": [],
   "source": [
    "def part_a(data):\n",
    "\tincreases = 0\n",
    "\tfor i in range(1, len(data)):\n",
    "\t\tincreases += (1 if data[i] > data[i-1] else 0)\n",
    "\treturn increases"
   ]
  },
  {
   "cell_type": "code",
   "execution_count": 5,
   "id": "f88a4eea-c757-4e51-b51b-ef1cd64dce64",
   "metadata": {},
   "outputs": [],
   "source": [
    "def part_b(data, window_size):\n",
    "\tincreases = 0\n",
    "\tif window_size > len(data):\n",
    "\t\treturn increases\n",
    "\twindow_sum = sum(data[:window_size])\n",
    "\tfor i in range(window_size, len(data)):\n",
    "\t\tlast_window_sum = window_sum\n",
    "\t\twindow_sum += data[i] - data[i - window_size]\n",
    "\t\tincreases += (1 if window_sum > last_window_sum else 0)\n",
    "\treturn increases"
   ]
  },
  {
   "cell_type": "code",
   "execution_count": 6,
   "id": "ad14a747-32ba-432d-b67f-5a08c4ec7572",
   "metadata": {},
   "outputs": [
    {
     "name": "stdout",
     "output_type": "stream",
     "text": [
      "First 10 (from a total of 2000) measurements:\n",
      "131\n",
      "140\n",
      "136\n",
      "135\n",
      "155\n",
      "175\n",
      "178\n",
      "186\n",
      "187\n",
      "189\n"
     ]
    }
   ],
   "source": [
    "data = []\n",
    "input_path = \"input.txt\"\n",
    "get_processed_input(input_path, data)\n",
    "num_measurements = len(data)"
   ]
  },
  {
   "cell_type": "code",
   "execution_count": 7,
   "id": "684f87d0-ccf1-4836-b358-fac02724ab66",
   "metadata": {},
   "outputs": [
    {
     "name": "stdout",
     "output_type": "stream",
     "text": [
      "SOL A: [1466] increases out of 1999 steps\n"
     ]
    }
   ],
   "source": [
    "sol_a = part_a(data)\n",
    "print(\"SOL A: [{}] increases out of {} steps\".format(sol_a, num_measurements - 1))"
   ]
  },
  {
   "cell_type": "code",
   "execution_count": 8,
   "id": "4f20d772-bdfc-4eba-9d64-abcf0b3471a4",
   "metadata": {},
   "outputs": [
    {
     "name": "stdout",
     "output_type": "stream",
     "text": [
      "SOL B: [1491] increases out of 1997 steps with a 3-sized window\n"
     ]
    }
   ],
   "source": [
    "window_size = 3\n",
    "sol_b = part_b(data, window_size)\n",
    "print(\"SOL B: [{}] increases out of {} steps with a {}-sized window\".format(\n",
    "    sol_b, num_measurements -window_size , window_size))"
   ]
  },
  {
   "cell_type": "code",
   "execution_count": null,
   "id": "e06b7296-f895-4875-9f8d-230360351063",
   "metadata": {},
   "outputs": [],
   "source": []
  }
 ],
 "metadata": {
  "kernelspec": {
   "display_name": "Python 3 (ipykernel)",
   "language": "python",
   "name": "python3"
  },
  "language_info": {
   "codemirror_mode": {
    "name": "ipython",
    "version": 3
   },
   "file_extension": ".py",
   "mimetype": "text/x-python",
   "name": "python",
   "nbconvert_exporter": "python",
   "pygments_lexer": "ipython3",
   "version": "3.10.0"
  }
 },
 "nbformat": 4,
 "nbformat_minor": 5
}
