{
 "cells": [
  {
   "cell_type": "code",
   "execution_count": 1,
   "id": "9d4f795b-30c1-43a3-9dcd-f3b9e7c692e1",
   "metadata": {},
   "outputs": [],
   "source": [
    "PRIORITIZE_0 = -1\n",
    "PRIORITIZE_1 = 1"
   ]
  },
  {
   "cell_type": "code",
   "execution_count": 2,
   "id": "6b2217af-5a05-40fd-9138-f69bc760be81",
   "metadata": {},
   "outputs": [],
   "source": [
    "def print_data(data, num):\n",
    "\tnum_numbers = len(data)\n",
    "\tnum = min(num, num_numbers)\n",
    "\tprint(\"First {} (from a total of {}) binary numbers:\".format(num, num_numbers))\n",
    "\tfor code in data[:num]:\n",
    "\t\tprint(code)"
   ]
  },
  {
   "cell_type": "code",
   "execution_count": 3,
   "id": "2b1e3399-7424-49cb-9369-91084e2ce90c",
   "metadata": {},
   "outputs": [],
   "source": [
    "def get_processed_input(input_path, data):\n",
    "\t\"\"\"The data is a square matrix. Each row is a binary number\"\"\"\n",
    "\twith open(input_path, \"rt\") as f:\n",
    "\t\tinput = f.read()\n",
    "\t\tlines = input.split(\"\\n\")\n",
    "\t\tdata += [[int(n) for n in word] for word in lines]\n",
    "\t\tprint_data(data, 10)"
   ]
  },
  {
   "cell_type": "code",
   "execution_count": 4,
   "id": "81389207-e931-4fd2-8601-24748596bcfc",
   "metadata": {},
   "outputs": [],
   "source": [
    "def binary_to_decimal(binary):\n",
    "\tdec = 0\n",
    "\texp = 0\n",
    "\tfor digit in binary[::-1]:\n",
    "\t\tif digit:\n",
    "\t\t\tdec += 2**exp\n",
    "\t\texp += 1\n",
    "\treturn dec"
   ]
  },
  {
   "cell_type": "code",
   "execution_count": 5,
   "id": "e5e87c88-eb1c-481e-8e4a-7c835726693a",
   "metadata": {},
   "outputs": [],
   "source": [
    "def get_epsilon_gamma_rates(data, priority):\n",
    "\t\"\"\"The priority determines the \"winner\" when there are the same amount of 0s and 1s\"\"\"\n",
    "\tnum_numbers = len(data)\n",
    "\tsums = [num for num in data[0]]\n",
    "\tfor number in data[1:]:\n",
    "\t\tfor i in range(len(number)):\n",
    "\t\t\tsums[i] += number[i]\n",
    "\tgamma_rate = [0 for i in range(len(sums))]\n",
    "\tepsilon_rate = [0 for i in range(len(sums))]\n",
    "\tfor i in range(len(sums)):\n",
    "\t\tdigit = sums[i]\n",
    "\t\tif (len(data) % 2 != 0 and digit > num_numbers / 2) or (len(data) % 2 == 0 and digit > num_numbers / 2 + priority):\n",
    "\t\t\tgamma_rate[i] += 1\n",
    "\t\telse:\n",
    "\t\t\tepsilon_rate[i] += 1\n",
    "\treturn epsilon_rate, gamma_rate"
   ]
  },
  {
   "cell_type": "code",
   "execution_count": 6,
   "id": "89e302de-bb51-4818-a2fb-d4eb9875a158",
   "metadata": {},
   "outputs": [],
   "source": [
    "def part_a(data):\n",
    "\tepsilon_rate, gamma_rate = get_epsilon_gamma_rates(data, PRIORITIZE_0)\n",
    "\te_rate_dec = binary_to_decimal(epsilon_rate)\n",
    "\tg_rate_dec = binary_to_decimal(gamma_rate)\n",
    "\treturn e_rate_dec * g_rate_dec, epsilon_rate, gamma_rate"
   ]
  },
  {
   "cell_type": "code",
   "execution_count": 7,
   "id": "8b048a97-7a8b-4201-8856-4e4cb946c888",
   "metadata": {},
   "outputs": [],
   "source": [
    "def part_b(data):\n",
    "    pass"
   ]
  },
  {
   "cell_type": "code",
   "execution_count": 8,
   "id": "31a27934-d5fc-476b-8aba-b079ee3c4d40",
   "metadata": {},
   "outputs": [
    {
     "name": "stdout",
     "output_type": "stream",
     "text": [
      "First 10 (from a total of 1000) binary numbers:\n",
      "[1, 1, 1, 0, 1, 0, 1, 0, 1, 1, 0, 0]\n",
      "[1, 0, 0, 0, 0, 1, 0, 0, 1, 1, 0, 0]\n",
      "[0, 0, 0, 1, 1, 1, 1, 0, 1, 1, 0, 0]\n",
      "[1, 0, 0, 1, 0, 0, 0, 0, 0, 0, 0, 0]\n",
      "[0, 0, 1, 0, 0, 1, 0, 0, 1, 1, 1, 0]\n",
      "[1, 0, 0, 1, 1, 0, 1, 0, 1, 0, 1, 1]\n",
      "[0, 0, 1, 0, 0, 1, 1, 0, 0, 1, 0, 1]\n",
      "[0, 1, 0, 0, 0, 0, 0, 1, 0, 1, 1, 0]\n",
      "[0, 1, 1, 0, 1, 1, 0, 0, 1, 0, 0, 1]\n",
      "[0, 0, 1, 0, 0, 1, 0, 0, 0, 1, 0, 1]\n"
     ]
    }
   ],
   "source": [
    "data = []\n",
    "input_path = \"input.txt\"\n",
    "get_processed_input(input_path, data)"
   ]
  },
  {
   "cell_type": "code",
   "execution_count": 9,
   "id": "ea73fc7a-1dd4-4822-a711-ad05bdf0791f",
   "metadata": {},
   "outputs": [
    {
     "name": "stdout",
     "output_type": "stream",
     "text": [
      "======================\n",
      "SOL A: [749376] is the result of multiplying [0, 0, 0, 0, 1, 1, 0, 0, 0, 0, 0, 0] (192) of epsilon rate and [1, 1, 1, 1, 0, 0, 1, 1, 1, 1, 1, 1] (3903) of gamma rate\n"
     ]
    }
   ],
   "source": [
    "sol_a, epsilon_rate, gamma_rate = part_a(data)\n",
    "print(\"======================\\nSOL A: [{}] is the result of multiplying {} ({}) of epsilon rate and {} ({}) of gamma rate\".format(\n",
    "    sol_a, epsilon_rate, binary_to_decimal(epsilon_rate),  gamma_rate, binary_to_decimal(gamma_rate)))"
   ]
  }
 ],
 "metadata": {
  "kernelspec": {
   "display_name": "Python 3 (ipykernel)",
   "language": "python",
   "name": "python3"
  },
  "language_info": {
   "codemirror_mode": {
    "name": "ipython",
    "version": 3
   },
   "file_extension": ".py",
   "mimetype": "text/x-python",
   "name": "python",
   "nbconvert_exporter": "python",
   "pygments_lexer": "ipython3",
   "version": "3.10.0"
  }
 },
 "nbformat": 4,
 "nbformat_minor": 5
}
