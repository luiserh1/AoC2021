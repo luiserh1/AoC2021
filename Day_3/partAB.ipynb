{
 "cells": [
  {
   "cell_type": "code",
   "execution_count": 1,
   "id": "9d4f795b-30c1-43a3-9dcd-f3b9e7c692e1",
   "metadata": {},
   "outputs": [],
   "source": [
    "UNTIE_0 = 0\n",
    "UNTIE_1 = 1\n",
    "UNTIE_2 = 2"
   ]
  },
  {
   "cell_type": "code",
   "execution_count": 2,
   "id": "6b2217af-5a05-40fd-9138-f69bc760be81",
   "metadata": {},
   "outputs": [],
   "source": [
    "def print_data(data, num):\n",
    "    num_numbers = len(data)\n",
    "    num = min(num, num_numbers)\n",
    "    print(\"First {} (from a total of {}) binary numbers:\".format(num, num_numbers))\n",
    "    for code in data[:num]:\n",
    "        print(code)"
   ]
  },
  {
   "cell_type": "code",
   "execution_count": 3,
   "id": "2b1e3399-7424-49cb-9369-91084e2ce90c",
   "metadata": {},
   "outputs": [],
   "source": [
    "def get_processed_input(input_path, data):\n",
    "    \"\"\"The data is a square matrix. Each row is a binary number\"\"\"\n",
    "    with open(input_path, \"rt\") as f:\n",
    "        input = f.read()\n",
    "        lines = input.split(\"\\n\")\n",
    "        data += [[int(n) for n in word] for word in lines]\n",
    "        print_data(data, 10)"
   ]
  },
  {
   "cell_type": "code",
   "execution_count": 4,
   "id": "81389207-e931-4fd2-8601-24748596bcfc",
   "metadata": {},
   "outputs": [],
   "source": [
    "def binary_to_decimal(binary):\n",
    "    dec = 0\n",
    "    exp = 0\n",
    "    for digit in binary[::-1]:\n",
    "        if digit:\n",
    "            dec += 2**exp\n",
    "        exp += 1\n",
    "    return dec"
   ]
  },
  {
   "cell_type": "code",
   "execution_count": 5,
   "id": "7d881359-f05c-4242-8d14-ea105995c4e0",
   "metadata": {},
   "outputs": [],
   "source": [
    "def get_most_common_values(data, untie, num, offset=0):\n",
    "    \"\"\"The priority determines the \"winner\" when there are the same amount of 0s and 1s.\n",
    "        2 is for when noticing that is needed\"\"\"\n",
    "    if offset + num  > len(data[0]):\n",
    "        return None\n",
    "    sums = [dig for dig in data[0][offset:offset+num]]\n",
    "    for number in data[1:]:\n",
    "        for i in range(num):\n",
    "            sums[i] += number[offset + i]\n",
    "            \n",
    "    most_common = [0] * num\n",
    "    half_numbers = len(data) // 2\n",
    "    pair = len(data) % 2 == 0\n",
    "    for i in range(num):\n",
    "        digit = sums[i]\n",
    "        if digit > half_numbers:\n",
    "            most_common[i] = 1\n",
    "        elif pair and digit == half_numbers:\n",
    "            most_common[i] = untie\n",
    "    return most_common"
   ]
  },
  {
   "cell_type": "code",
   "execution_count": 6,
   "id": "e5e87c88-eb1c-481e-8e4a-7c835726693a",
   "metadata": {},
   "outputs": [],
   "source": [
    "def get_gamma_epsilon_rates(data, priority):\n",
    "    num = len(data[0])\n",
    "    gamma_rate = get_most_common_values(data, priority, num)\n",
    "    if not gamma_rate:\n",
    "        return None, None\n",
    "    epsilon_rate = [(0 if dig == 1 else 1) for dig in gamma_rate]\n",
    "    return gamma_rate, epsilon_rate"
   ]
  },
  {
   "cell_type": "code",
   "execution_count": 7,
   "id": "89e302de-bb51-4818-a2fb-d4eb9875a158",
   "metadata": {},
   "outputs": [],
   "source": [
    "def part_a(data):\n",
    "    gamma_rate, epsilon_rate = get_gamma_epsilon_rates(data, UNTIE_0)\n",
    "    e_rate_dec = binary_to_decimal(epsilon_rate)\n",
    "    g_rate_dec = binary_to_decimal(gamma_rate)\n",
    "    return e_rate_dec * g_rate_dec, gamma_rate, epsilon_rate"
   ]
  },
  {
   "cell_type": "code",
   "execution_count": 8,
   "id": "8b048a97-7a8b-4201-8856-4e4cb946c888",
   "metadata": {},
   "outputs": [],
   "source": [
    "def part_b(data, verbose=False):\n",
    "    o2_rating_candidates = [num for num in data]   # Soft copy\n",
    "    co2_rating_candidates = [num for num in data]\n",
    "    num_bits = len(data[0])\n",
    "    o2_found = co2_found = False\n",
    "    for i in range(num_bits):\n",
    "        if len(o2_rating_candidates) > 1:\n",
    "            old_num_candidates = len(o2_rating_candidates)\n",
    "            most_common_value = get_most_common_values(\n",
    "                data=o2_rating_candidates,\n",
    "                untie=UNTIE_2,\n",
    "                num=1,\n",
    "                offset=i)[0]  # The returned list has \"num\" (1) components\n",
    "            old_candidates = [candidate for candidate in o2_rating_candidates]\n",
    "            if most_common_value > 1:\n",
    "                o2_rating_candidates = [candidate for candidate in o2_rating_candidates if candidate[i] == 1]\n",
    "            else:\n",
    "                o2_rating_candidates = [candidate for candidate in o2_rating_candidates if candidate[i] == most_common_value]\n",
    "            # o2_rating_candidates = [candidate for candidate in o2_rating_candidates \n",
    "            #                         if candidate[i] == most_common_value or\n",
    "            #                         (most_common_value == 2 and candidate[i] == 1)]\n",
    "            if len(o2_rating_candidates) < 1:\n",
    "                o2_rating_candidates = old_candidates\n",
    "            if verbose:\n",
    "                num_candidates = len(o2_rating_candidates) \n",
    "                print(\"O2 -> MCV {}: {} discarded in iteration {}. {} remain\".\n",
    "                     format(most_common_value, old_num_candidates - num_candidates, i, num_candidates))\n",
    "        elif not o2_found:\n",
    "            if verbose:\n",
    "                print(\"O2 candidate found in iteration \" , i-1)\n",
    "            o2_found = True\n",
    "            \n",
    "        if len(co2_rating_candidates) > 1:\n",
    "            old_num_candidates = len(co2_rating_candidates)\n",
    "            most_common_value = get_most_common_values(\n",
    "                data=co2_rating_candidates,\n",
    "                untie=UNTIE_2,\n",
    "                num=1,\n",
    "                offset=i)[0]\n",
    "            old_candidates = [candidate for candidate in co2_rating_candidates]\n",
    "            if most_common_value == 2:\n",
    "                co2_rating_candidates = [candidate for candidate in co2_rating_candidates if candidate[i] == 0]\n",
    "            else:\n",
    "                co2_rating_candidates = [candidate for candidate in co2_rating_candidates if candidate[i] != most_common_value]\n",
    "            # co2_rating_candidates = [candidate for candidate in co2_rating_candidates\n",
    "            #                         if candidate[i] != most_common_value or\n",
    "            #                         (most_common_value == 2 and candidate[i] == 0)]\n",
    "            if len(co2_rating_candidates) < 1:\n",
    "                co2_rating_candidates = old_candidates\n",
    "            if verbose:\n",
    "                num_candidates = len(co2_rating_candidates) \n",
    "                print(\"CO2 -> MCV {}: {} CO2 candidates discarded in iteration {}. {} remain\".\n",
    "                     format(most_common_value, old_num_candidates - num_candidates, i, num_candidates))\n",
    "        elif not co2_found:\n",
    "            if verbose:\n",
    "                print(\"CO2 candidate found in iteration \", i-1)\n",
    "            co2_found = True\n",
    "        if o2_found and co2_found:\n",
    "            break\n",
    "    if len(o2_rating_candidates) != 1 or len(co2_rating_candidates) != 1:\n",
    "        return None, None, None\n",
    "    if not o2_found and verbose:\n",
    "            print(\"O2 candidate found in the last iteration\")\n",
    "    if not co2_found and verbose:\n",
    "            print(\"CO2 candidate found in the last iteration\")    \n",
    "    o2_rating_dec = binary_to_decimal(o2_rating_candidates[0])\n",
    "    co2_rating_dec = binary_to_decimal(co2_rating_candidates[0])\n",
    "    return o2_rating_dec * co2_rating_dec, o2_rating_candidates[0], co2_rating_candidates[0]"
   ]
  },
  {
   "cell_type": "code",
   "execution_count": 9,
   "id": "31a27934-d5fc-476b-8aba-b079ee3c4d40",
   "metadata": {},
   "outputs": [
    {
     "name": "stdout",
     "output_type": "stream",
     "text": [
      "First 10 (from a total of 1000) binary numbers:\n",
      "[1, 1, 1, 0, 1, 0, 1, 0, 1, 1, 0, 0]\n",
      "[1, 0, 0, 0, 0, 1, 0, 0, 1, 1, 0, 0]\n",
      "[0, 0, 0, 1, 1, 1, 1, 0, 1, 1, 0, 0]\n",
      "[1, 0, 0, 1, 0, 0, 0, 0, 0, 0, 0, 0]\n",
      "[0, 0, 1, 0, 0, 1, 0, 0, 1, 1, 1, 0]\n",
      "[1, 0, 0, 1, 1, 0, 1, 0, 1, 0, 1, 1]\n",
      "[0, 0, 1, 0, 0, 1, 1, 0, 0, 1, 0, 1]\n",
      "[0, 1, 0, 0, 0, 0, 0, 1, 0, 1, 1, 0]\n",
      "[0, 1, 1, 0, 1, 1, 0, 0, 1, 0, 0, 1]\n",
      "[0, 0, 1, 0, 0, 1, 0, 0, 0, 1, 0, 1]\n"
     ]
    }
   ],
   "source": [
    "data = []\n",
    "input_path = \"input.txt\"\n",
    "get_processed_input(input_path, data)"
   ]
  },
  {
   "cell_type": "code",
   "execution_count": 10,
   "id": "ea73fc7a-1dd4-4822-a711-ad05bdf0791f",
   "metadata": {},
   "outputs": [
    {
     "name": "stdout",
     "output_type": "stream",
     "text": [
      "SOL A: [749376] is the result of multiplying [1, 1, 1, 1, 0, 0, 1, 1, 1, 1, 1, 1] (3903) of gamma rate and [0, 0, 0, 0, 1, 1, 0, 0, 0, 0, 0, 0] (192) of epsilon rate\n"
     ]
    }
   ],
   "source": [
    "sol_a, gamma_rate, epsilon_rate = part_a(data)\n",
    "print(\"SOL A: [{}] is the result of multiplying {} ({}) of gamma rate and {} ({}) of epsilon rate\".format(\n",
    "    sol_a, gamma_rate, binary_to_decimal(gamma_rate), epsilon_rate, binary_to_decimal(epsilon_rate)))"
   ]
  },
  {
   "cell_type": "code",
   "execution_count": 11,
   "id": "66eef500-8b64-4a9b-b6ad-6ccabf8e89de",
   "metadata": {},
   "outputs": [
    {
     "name": "stdout",
     "output_type": "stream",
     "text": [
      "O2 -> MCV 1: 489 discarded in iteration 0. 511 remain\n",
      "CO2 -> MCV 1: 511 CO2 candidates discarded in iteration 0. 489 remain\n",
      "O2 -> MCV 1: 248 discarded in iteration 1. 263 remain\n",
      "CO2 -> MCV 1: 247 CO2 candidates discarded in iteration 1. 242 remain\n",
      "O2 -> MCV 1: 125 discarded in iteration 2. 138 remain\n",
      "CO2 -> MCV 0: 124 CO2 candidates discarded in iteration 2. 118 remain\n",
      "O2 -> MCV 1: 62 discarded in iteration 3. 76 remain\n",
      "CO2 -> MCV 1: 60 CO2 candidates discarded in iteration 3. 58 remain\n",
      "O2 -> MCV 0: 34 discarded in iteration 4. 42 remain\n",
      "CO2 -> MCV 1: 32 CO2 candidates discarded in iteration 4. 26 remain\n",
      "O2 -> MCV 0: 17 discarded in iteration 5. 25 remain\n",
      "CO2 -> MCV 0: 14 CO2 candidates discarded in iteration 5. 12 remain\n",
      "O2 -> MCV 0: 12 discarded in iteration 6. 13 remain\n",
      "CO2 -> MCV 0: 7 CO2 candidates discarded in iteration 6. 5 remain\n",
      "O2 -> MCV 1: 6 discarded in iteration 7. 7 remain\n",
      "CO2 -> MCV 1: 3 CO2 candidates discarded in iteration 7. 2 remain\n",
      "O2 -> MCV 1: 3 discarded in iteration 8. 4 remain\n",
      "CO2 -> MCV 2: 1 CO2 candidates discarded in iteration 8. 1 remain\n",
      "O2 -> MCV 2: 2 discarded in iteration 9. 2 remain\n",
      "CO2 candidate found in iteration  8\n",
      "O2 -> MCV 1: 0 discarded in iteration 10. 2 remain\n",
      "O2 -> MCV 2: 1 discarded in iteration 11. 1 remain\n",
      "O2 candidate found in the last iteration\n",
      "SOL B: [2372923] is the result of multiplying [1, 1, 1, 1, 0, 0, 0, 1, 1, 1, 1, 1] (3871) of oxygen generator rating and [0, 0, 1, 0, 0, 1, 1, 0, 0, 1, 0, 1] (613) of CO2 scrubber rating\n"
     ]
    }
   ],
   "source": [
    "sol_b, o2_rating, co2_rating = part_b(data, verbose=True)\n",
    "print(\"SOL B: [{}] is the result of multiplying {} ({}) of oxygen generator rating and {} ({})\\\n",
    " of CO2 scrubber rating\".format(sol_b, o2_rating, binary_to_decimal(o2_rating), co2_rating,\n",
    "                                   binary_to_decimal(co2_rating)))"
   ]
  },
  {
   "cell_type": "markdown",
   "id": "d9323fa3-65ee-4c19-9e92-93b0c9093cb9",
   "metadata": {},
   "source": [
    "## Example test\n",
    "### A\n",
    "\n",
    "Gamma rate = 22\n",
    "\n",
    "Epsilon rate = 9\n",
    "\n",
    "Consumption = 198\n",
    "\n",
    "### B\n",
    "\n",
    "Oxygen generator rating = 23\n",
    "\n",
    "CO2 scrubber rating = 10\n",
    "\n",
    "Life support rating = 230"
   ]
  },
  {
   "cell_type": "code",
   "execution_count": 12,
   "id": "155a053f-11d2-4d30-be51-751f0eb7b9c4",
   "metadata": {},
   "outputs": [],
   "source": [
    "data_test = [[0,0,1,0,0],\n",
    "[1,1,1,1,0],\n",
    "[1,0,1,1,0],\n",
    "[1,0,1,1,1],\n",
    "[1,0,1,0,1],\n",
    "[0,1,1,1,1],\n",
    "[0,0,1,1,1],\n",
    "[1,1,1,0,0],\n",
    "[1,0,0,0,0],\n",
    "[1,1,0,0,1],\n",
    "[0,0,0,1,0],\n",
    "[0,1,0,1,0]]"
   ]
  },
  {
   "cell_type": "code",
   "execution_count": 13,
   "id": "1afed70f-fc69-4ddd-8a1d-038b30b5400a",
   "metadata": {},
   "outputs": [
    {
     "name": "stdout",
     "output_type": "stream",
     "text": [
      "SOL Test A: [198] is the result of multiplying [1, 0, 1, 1, 0] (22) of gamma rate and [0, 1, 0, 0, 1] (9) of epsilon rate\n"
     ]
    }
   ],
   "source": [
    "sol_a, gamma_rate, epsilon_rate = part_a(data_test)\n",
    "print(\"SOL Test A: [{}] is the result of multiplying {} ({}) of gamma rate and {} ({}) of epsilon rate\".format(\n",
    "    sol_a, gamma_rate, binary_to_decimal(gamma_rate), epsilon_rate, binary_to_decimal(epsilon_rate)))"
   ]
  },
  {
   "cell_type": "code",
   "execution_count": 14,
   "id": "b9bd32a5-0787-472c-992f-c969fd553d9a",
   "metadata": {},
   "outputs": [
    {
     "name": "stdout",
     "output_type": "stream",
     "text": [
      "O2 -> MCV 1: 5 discarded in iteration 0. 7 remain\n",
      "CO2 -> MCV 1: 7 CO2 candidates discarded in iteration 0. 5 remain\n",
      "O2 -> MCV 0: 3 discarded in iteration 1. 4 remain\n",
      "CO2 -> MCV 0: 3 CO2 candidates discarded in iteration 1. 2 remain\n",
      "O2 -> MCV 1: 1 discarded in iteration 2. 3 remain\n",
      "CO2 -> MCV 2: 1 CO2 candidates discarded in iteration 2. 1 remain\n",
      "O2 -> MCV 1: 1 discarded in iteration 3. 2 remain\n",
      "CO2 candidate found in iteration  2\n",
      "O2 -> MCV 2: 1 discarded in iteration 4. 1 remain\n",
      "O2 candidate found in the last iteration\n",
      "SOL Test B: [230] is the result of multiplying [1, 0, 1, 1, 1] (23) of oxygen generator rating and [0, 1, 0, 1, 0] (10) of CO2 scrubber rating\n"
     ]
    }
   ],
   "source": [
    "sol_b, o2_rating, co2_rating = part_b(data_test, verbose=True)\n",
    "print(\"SOL Test B: [{}] is the result of multiplying {} ({}) of oxygen generator rating and {} ({})\\\n",
    " of CO2 scrubber rating\".format(sol_b, o2_rating, binary_to_decimal(o2_rating), co2_rating,\n",
    "                                   binary_to_decimal(co2_rating)))"
   ]
  },
  {
   "cell_type": "code",
   "execution_count": null,
   "id": "f6453621-3cc3-4d0f-9719-cb0af08b39c6",
   "metadata": {},
   "outputs": [],
   "source": []
  }
 ],
 "metadata": {
  "kernelspec": {
   "display_name": "Python 3 (ipykernel)",
   "language": "python",
   "name": "python3"
  },
  "language_info": {
   "codemirror_mode": {
    "name": "ipython",
    "version": 3
   },
   "file_extension": ".py",
   "mimetype": "text/x-python",
   "name": "python",
   "nbconvert_exporter": "python",
   "pygments_lexer": "ipython3",
   "version": "3.10.0"
  }
 },
 "nbformat": 4,
 "nbformat_minor": 5
}
