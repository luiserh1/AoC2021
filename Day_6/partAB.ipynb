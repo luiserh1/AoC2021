{
 "cells": [
  {
   "cell_type": "code",
   "execution_count": 1,
   "id": "3d2dcd39-9644-4a13-84b4-1e3358679219",
   "metadata": {},
   "outputs": [],
   "source": [
    "def print_data(data, num):\n",
    "    num = min(num, len(data))\n",
    "    print(\"First {} (from a total of {}) lanternfishes:\".format(num, len(data)))\n",
    "    print(data[:num])"
   ]
  },
  {
   "cell_type": "code",
   "execution_count": 2,
   "id": "b5c5f5a7-28a9-4a94-a921-964260395556",
   "metadata": {},
   "outputs": [],
   "source": [
    "def get_processed_input(input_path, data, verbose=True):\n",
    "    \"\"\"The data is a List where each number represents a lanterfish and the days left for it to replicate\"\"\"\n",
    "    with open(input_path, \"rt\") as f:\n",
    "        raw_input = f.read()\n",
    "        data += [int(num) for num in raw_input.split(\",\")]\n",
    "        print_data(data, 10)"
   ]
  },
  {
   "cell_type": "code",
   "execution_count": 3,
   "id": "51cc3442-5ee7-4793-94e0-3533de14d170",
   "metadata": {},
   "outputs": [],
   "source": [
    "def part_a(data, days, verbose=False):\n",
    "    fishes = [fish for fish in data]  # Soft copy\n",
    "    for day in range(days):\n",
    "        new_fishes = []\n",
    "        for i in range(len(fishes)):\n",
    "            if fishes[i]:\n",
    "                fishes[i] -= 1\n",
    "            else:  # A lanternfish is about to spawn\n",
    "                fishes[i] = 6  # The cycle is reseted\n",
    "                new_fishes.append(8)\n",
    "        fishes += new_fishes\n",
    "        if verbose:\n",
    "            print(\"{} fishes after {} days. These are: {}\".format(len(fishes), days+1, fishes))\n",
    "    return len(fishes), fishes"
   ]
  },
  {
   "cell_type": "code",
   "execution_count": 125,
   "id": "09ded494-c304-40b8-8c9c-2629e68668de",
   "metadata": {},
   "outputs": [],
   "source": [
    "def part_b(data, days, cycle_days=7, new_born_cycle_days=9, days_to_replicate=7, verbose=False):\n",
    "    \"\"\"The challenge here is to design a code that does the same that part a, but way more efficiently.\n",
    "    We assume that the elder lanternfishes require less time to replicate than newborns\n",
    "    \"\"\"\n",
    "    max_days_per_fish = max(new_born_cycle_days, max(data))\n",
    "    fishes_per_days = [0 for _ in range(max_days_per_fish)]\n",
    "    for fish_days in data:\n",
    "        fishes_per_days[fish_days] += 1\n",
    "\n",
    "    if verbose:\n",
    "        print(\"First distribution of lantern fishes for the days left for them to replicate: {}\".format(fishes_per_days))\n",
    "    current_day = 0\n",
    "    for _ in range(0, days - cycle_days, cycle_days):\n",
    "        new_distribution = [0 for _ in fishes_per_days]\n",
    "        for i in range(max_days_per_fish):\n",
    "            if i + cycle_days < max_days_per_fish:  # Elder fishes (no replicants)\n",
    "                new_distribution[i] += fishes_per_days[i + cycle_days]   \n",
    "            if i < cycle_days:  \n",
    "                new_distribution[i] += fishes_per_days[i]  # Elder fishes (replicants)\n",
    "                new_distribution[new_born_cycle_days-1 - i] += fishes_per_days[cycle_days-1 - i]  # Replicates\n",
    "        fishes_per_days = new_distribution\n",
    "        current_day += cycle_days\n",
    "    last_days = days - current_day\n",
    "    new_distribution = [0 for _ in fishes_per_days]\n",
    "    for i in range(max_days_per_fish):\n",
    "        if i + last_days < max_days_per_fish: \n",
    "            new_distribution[i] += fishes_per_days[i + last_days]   \n",
    "        if i < last_days:  \n",
    "            new_distribution[cycle_days-1 - last_days + i] += fishes_per_days[i]\n",
    "            new_distribution[new_born_cycle_days-1 - i] += fishes_per_days[i]\n",
    "    fishes_per_days = new_distribution\n",
    "    \n",
    "    if verbose:\n",
    "        print(\"Final distribution of lantern fishes for the days left for them to replicate: {}\".format(fishes_per_days))\n",
    "    return sum(fishes_per_days)"
   ]
  },
  {
   "cell_type": "code",
   "execution_count": 126,
   "id": "28a396e3-e718-4045-9bcc-928395bf6d70",
   "metadata": {},
   "outputs": [
    {
     "name": "stdout",
     "output_type": "stream",
     "text": [
      "First 10 (from a total of 300) lanternfishes:\n",
      "[4, 1, 3, 2, 4, 3, 1, 4, 4, 1]\n"
     ]
    }
   ],
   "source": [
    "data = []\n",
    "input_path = \"input.txt\"\n",
    "get_processed_input(input_path, data)\n",
    "days = 80"
   ]
  },
  {
   "cell_type": "code",
   "execution_count": 127,
   "id": "de679b71-13f1-4f07-9104-c1a9aa8bd34b",
   "metadata": {},
   "outputs": [
    {
     "name": "stdout",
     "output_type": "stream",
     "text": [
      "SOL A: [375482] lanternfishes after 80 days\n"
     ]
    }
   ],
   "source": [
    "sol_a, fishes_a = part_a(data, days)\n",
    "print(\"SOL A: [{}] lanternfishes after {} days\".format(sol_a, days))"
   ]
  },
  {
   "cell_type": "code",
   "execution_count": 134,
   "id": "ce5420b1-1ffd-4f3e-8a5e-c05ec9f06dbe",
   "metadata": {},
   "outputs": [
    {
     "name": "stdout",
     "output_type": "stream",
     "text": [
      "First distribution of lantern fishes for the days left for them to replicate: [0, 155, 33, 45, 41, 26, 0, 0, 0]\n",
      "Final distribution of lantern fishes for the days left for them to replicate: [143816975858, 173691452642, 283732269125, 218272486027, 219754987319, 302449998640, 118648813586, 126199066634, 102974366126]\n",
      "SOL B: [1689540415957] lanternfishes after 256 days\n"
     ]
    }
   ],
   "source": [
    "days = 256\n",
    "sol_b = part_b(data, days, verbose=True)\n",
    "print(\"SOL B: [{}] lanternfishes after {} days\".format(sol_b, days))"
   ]
  },
  {
   "cell_type": "markdown",
   "id": "ebd8e693-22df-4ef5-ae57-439d57ab702b",
   "metadata": {},
   "source": [
    "## TEST\n",
    "\n",
    "### A\n",
    "\n",
    "===After 18 days===\n",
    "\n",
    "Sol = 26\n",
    "\n",
    "Lanternfishes: [6,0,6,4,5,6,0,1,1,2,6,0,1,1,1,2,2,3,3,4,6,7,8,8,8,8]\n",
    "\n",
    "===After 80 days===\n",
    "\n",
    "Sol = 5934\n",
    "\n",
    "### B\n",
    "\n",
    "Sol = 26984457539"
   ]
  },
  {
   "cell_type": "code",
   "execution_count": 128,
   "id": "8a1b207f-2008-4f94-87e1-025f8641a72a",
   "metadata": {},
   "outputs": [
    {
     "name": "stdout",
     "output_type": "stream",
     "text": [
      "SOL TEST A: [26] lanternfishes after 18 days. The final lanternfishes have the next days left to replicate:[6, 0, 6, 4, 5, 6, 0, 1, 1, 2, 6, 0, 1, 1, 1, 2, 2, 3, 3, 4, 6, 7, 8, 8, 8, 8]\n",
      "SOL TEST A: [5934] lanternfishes after 80 days\n"
     ]
    }
   ],
   "source": [
    "data_test = [3,4,3,1,2]\n",
    "days_test = 18\n",
    "sol_test_18days, fishes_18days = part_a(data_test, days_test, verbose=False)\n",
    "print(\"SOL TEST A: [{}] lanternfishes after {} days. The final lanternfishes have the next days left to replicate:{}\".format(\n",
    "    sol_test_18days, days_test, fishes_18days))\n",
    "sol_test_80days, fishes_80days = part_a(data_test, days)\n",
    "print(\"SOL TEST A: [{}] lanternfishes after {} days\".format(sol_test_80days, days))"
   ]
  },
  {
   "cell_type": "code",
   "execution_count": 130,
   "id": "352e1936-5e47-4efc-b572-77014f49ca74",
   "metadata": {},
   "outputs": [
    {
     "name": "stdout",
     "output_type": "stream",
     "text": [
      "First distribution of lantern fishes for the days left for them to replicate: [0, 1, 1, 2, 1, 0, 0, 0, 0]\n",
      "Final distribution of lantern fishes for the days left for them to replicate: [2376852196, 2731163883, 4593791550, 3413920610, 3581218722, 4659422784, 1985489551, 1946101237, 1696497006]\n",
      "SOL TEST B: [26984457539] lanternfishes after 256 days\n"
     ]
    }
   ],
   "source": [
    "days_test_b = 256\n",
    "sol_test_256days = part_b(data_test, days_test_b, verbose=True)\n",
    "print(\"SOL TEST B: [{}] lanternfishes after {} days\".format(sol_test_256days, days_test_b))"
   ]
  }
 ],
 "metadata": {
  "kernelspec": {
   "display_name": "Python 3 (ipykernel)",
   "language": "python",
   "name": "python3"
  },
  "language_info": {
   "codemirror_mode": {
    "name": "ipython",
    "version": 3
   },
   "file_extension": ".py",
   "mimetype": "text/x-python",
   "name": "python",
   "nbconvert_exporter": "python",
   "pygments_lexer": "ipython3",
   "version": "3.10.0"
  }
 },
 "nbformat": 4,
 "nbformat_minor": 5
}
