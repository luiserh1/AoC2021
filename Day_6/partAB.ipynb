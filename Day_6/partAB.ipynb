{
 "cells": [
  {
   "cell_type": "code",
   "execution_count": 1,
   "id": "3d2dcd39-9644-4a13-84b4-1e3358679219",
   "metadata": {},
   "outputs": [],
   "source": [
    "def print_data(data, num):\n",
    "    num = min(num, len(data))\n",
    "    print(\"First {} (from a total of {}) lanternfishes:\".format(num, len(data)))\n",
    "    print(data[:num])"
   ]
  },
  {
   "cell_type": "code",
   "execution_count": 2,
   "id": "b5c5f5a7-28a9-4a94-a921-964260395556",
   "metadata": {},
   "outputs": [],
   "source": [
    "def get_processed_input(input_path, data, verbose=True):\n",
    "    \"\"\"The data is a List where each number represents a lanterfish and the days left for it to replicate\"\"\"\n",
    "    with open(input_path, \"rt\") as f:\n",
    "        raw_input = f.read()\n",
    "        data += [int(num) for num in raw_input.split(\",\")]\n",
    "        print_data(data, 10)"
   ]
  },
  {
   "cell_type": "code",
   "execution_count": 3,
   "id": "51cc3442-5ee7-4793-94e0-3533de14d170",
   "metadata": {},
   "outputs": [],
   "source": [
    "def part_a(data, days, verbose=False):\n",
    "    fishes = [fish for fish in data]  # Soft copy\n",
    "    for day in range(days):\n",
    "        new_fishes = []\n",
    "        for i in range(len(fishes)):\n",
    "            if fishes[i]:\n",
    "                fishes[i] -= 1\n",
    "            else:  # A lanternfish is about to spawn\n",
    "                fishes[i] = 6  # The cycle is reseted\n",
    "                new_fishes.append(8)\n",
    "        fishes += new_fishes\n",
    "        if verbose:\n",
    "            print(\"{} fishes after {} days. These are: {}\".format(len(fishes), days+1, fishes))\n",
    "    return len(fishes), fishes"
   ]
  },
  {
   "cell_type": "code",
   "execution_count": 4,
   "id": "09ded494-c304-40b8-8c9c-2629e68668de",
   "metadata": {},
   "outputs": [],
   "source": [
    "def part_b(data, days, verbose=False):\n",
    "    pass"
   ]
  },
  {
   "cell_type": "code",
   "execution_count": 5,
   "id": "28a396e3-e718-4045-9bcc-928395bf6d70",
   "metadata": {},
   "outputs": [
    {
     "name": "stdout",
     "output_type": "stream",
     "text": [
      "First 10 (from a total of 300) lanternfishes:\n",
      "[4, 1, 3, 2, 4, 3, 1, 4, 4, 1]\n"
     ]
    }
   ],
   "source": [
    "data = []\n",
    "input_path = \"input.txt\"\n",
    "get_processed_input(input_path, data)\n",
    "days = 80"
   ]
  },
  {
   "cell_type": "code",
   "execution_count": 6,
   "id": "de679b71-13f1-4f07-9104-c1a9aa8bd34b",
   "metadata": {},
   "outputs": [
    {
     "name": "stdout",
     "output_type": "stream",
     "text": [
      "SOL A: [375482] lanternfishes after 80 days\n"
     ]
    }
   ],
   "source": [
    "sol_a, fishes_a = part_a(data, days)\n",
    "print(\"SOL A: [{}] lanternfishes after {} days\".format(sol_a, days))"
   ]
  },
  {
   "cell_type": "markdown",
   "id": "ebd8e693-22df-4ef5-ae57-439d57ab702b",
   "metadata": {},
   "source": [
    "## TEST\n",
    "\n",
    "### A\n",
    "\n",
    "- After 18 days -\n",
    "\n",
    "Sol = 26\n",
    "\n",
    "Lanternfishes: [6,0,6,4,5,6,0,1,1,2,6,0,1,1,1,2,2,3,3,4,6,7,8,8,8,8]\n",
    "\n",
    "- After 80 days -\n",
    "\n",
    "Sol = 5934\n",
    "\n",
    "### B\n",
    "\n"
   ]
  },
  {
   "cell_type": "code",
   "execution_count": 7,
   "id": "8a1b207f-2008-4f94-87e1-025f8641a72a",
   "metadata": {},
   "outputs": [
    {
     "name": "stdout",
     "output_type": "stream",
     "text": [
      "SOL TEST A: [26] lanternfishes after 18 days. The final lanternfishes have the next days left to replicate:[6, 0, 6, 4, 5, 6, 0, 1, 1, 2, 6, 0, 1, 1, 1, 2, 2, 3, 3, 4, 6, 7, 8, 8, 8, 8]\n",
      "SOL TEST A: [5934] lanternfishes after 80 days\n"
     ]
    }
   ],
   "source": [
    "data_test = [3,4,3,1,2]\n",
    "days_test = 18\n",
    "sol_test_18days, fishes_18days = part_a(data_test, days_test, verbose=False)\n",
    "print(\"SOL TEST A: [{}] lanternfishes after {} days. The final lanternfishes have the next days left to replicate:{}\".format(\n",
    "    sol_test_18days, days_test, fishes_18days))\n",
    "sol_test_80days, fishes_80days = part_a(data_test, days)\n",
    "print(\"SOL TEST A: [{}] lanternfishes after {} days\".format(sol_test_80days, days))"
   ]
  },
  {
   "cell_type": "code",
   "execution_count": null,
   "id": "352e1936-5e47-4efc-b572-77014f49ca74",
   "metadata": {},
   "outputs": [],
   "source": []
  }
 ],
 "metadata": {
  "kernelspec": {
   "display_name": "Python 3 (ipykernel)",
   "language": "python",
   "name": "python3"
  },
  "language_info": {
   "codemirror_mode": {
    "name": "ipython",
    "version": 3
   },
   "file_extension": ".py",
   "mimetype": "text/x-python",
   "name": "python",
   "nbconvert_exporter": "python",
   "pygments_lexer": "ipython3",
   "version": "3.10.0"
  }
 },
 "nbformat": 4,
 "nbformat_minor": 5
}
