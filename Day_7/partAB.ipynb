{
 "cells": [
  {
   "cell_type": "code",
   "execution_count": 1,
   "id": "4c3471e1-1d90-4ba5-9d7d-9c187278c870",
   "metadata": {},
   "outputs": [],
   "source": [
    "from math import inf\n",
    "# Evaluation types\n",
    "LINEAR = 0\n",
    "POLYNOMICAL = 1"
   ]
  },
  {
   "cell_type": "code",
   "execution_count": 2,
   "id": "3d2dcd39-9644-4a13-84b4-1e3358679219",
   "metadata": {},
   "outputs": [],
   "source": [
    "def print_data(data, num):\n",
    "    num = min(num, len(data))\n",
    "    print(\"First {} (from a total of {}) crab positions:\".format(num, len(data)))\n",
    "    print(data[:num])"
   ]
  },
  {
   "cell_type": "code",
   "execution_count": 3,
   "id": "b5c5f5a7-28a9-4a94-a921-964260395556",
   "metadata": {},
   "outputs": [],
   "source": [
    "def get_processed_input(input_path, data, verbose=True):\n",
    "    \"\"\"The data is a List where each number represents the horizontal position of a crab (in a submarine :D)\"\"\"\n",
    "    with open(input_path, \"rt\") as f:\n",
    "        raw_input = f.read()\n",
    "        data += [int(num) for num in raw_input.split(\",\")]\n",
    "        print_data(data, 10)"
   ]
  },
  {
   "cell_type": "code",
   "execution_count": 4,
   "id": "05d94b66-72c9-470d-8040-8d93ce87b4d6",
   "metadata": {},
   "outputs": [],
   "source": [
    "def evaluate_linear(data, pos):\n",
    "    res = 0\n",
    "    for dist in data:\n",
    "        res += abs(pos - dist)\n",
    "    return res"
   ]
  },
  {
   "cell_type": "code",
   "execution_count": 5,
   "id": "e12d14d0-23d4-498b-b33c-5a5273351fd7",
   "metadata": {},
   "outputs": [],
   "source": [
    "def evaluate_polynomical(data, pos, max_value):\n",
    "    precomputed = [0]\n",
    "    for i in range(1, max_value+1):\n",
    "        precomputed.append(precomputed[i-1] + i)\n",
    "\n",
    "    res = 0\n",
    "    for dist in data:\n",
    "        res += precomputed[abs(pos - dist)]\n",
    "    return res"
   ]
  },
  {
   "cell_type": "code",
   "execution_count": 6,
   "id": "51cc3442-5ee7-4793-94e0-3533de14d170",
   "metadata": {},
   "outputs": [],
   "source": [
    "def part_ab_greedy(data, evaluation, verbose=False):\n",
    "    min_pos = None\n",
    "    min_fuel = inf\n",
    "    max_pos = max(data)\n",
    "    min_pos = min(data)\n",
    "    for pos in range(min_pos, max_pos + 1):\n",
    "        fuel = inf\n",
    "        if evaluation == LINEAR:\n",
    "            fuel = evaluate_linear(data, pos)\n",
    "        elif evaluation == POLYNOMICAL:\n",
    "            fuel = evaluate_polynomical(data, pos, max_pos)\n",
    "        if fuel < min_fuel:\n",
    "            min_fuel = fuel\n",
    "            min_pos = pos\n",
    "            if verbose:\n",
    "                print(\"New min. found: {} for the position: {}\".format(min_fuel, min_pos))\n",
    "    return min_fuel, min_pos"
   ]
  },
  {
   "cell_type": "code",
   "execution_count": 7,
   "id": "28a396e3-e718-4045-9bcc-928395bf6d70",
   "metadata": {},
   "outputs": [
    {
     "name": "stdout",
     "output_type": "stream",
     "text": [
      "First 10 (from a total of 1000) crab positions:\n",
      "[1101, 1, 29, 67, 1102, 0, 1, 65, 1008, 65]\n"
     ]
    }
   ],
   "source": [
    "data = []\n",
    "input_path = \"input.txt\"\n",
    "get_processed_input(input_path, data)"
   ]
  },
  {
   "cell_type": "code",
   "execution_count": 8,
   "id": "de679b71-13f1-4f07-9104-c1a9aa8bd34b",
   "metadata": {},
   "outputs": [
    {
     "name": "stdout",
     "output_type": "stream",
     "text": [
      "SOL A: [364898] of fuel consumed by the crabs. The final position is 361\n"
     ]
    }
   ],
   "source": [
    "sol_a, pos_a = part_ab_greedy(data, LINEAR, verbose=False)\n",
    "print(\"SOL A: [{}] of fuel consumed by the crabs. The final position is {}\".format(sol_a, pos_a))"
   ]
  },
  {
   "cell_type": "code",
   "execution_count": 9,
   "id": "f7fe7e5d-1c03-4fbe-8bf4-5fc539cbe7f6",
   "metadata": {},
   "outputs": [
    {
     "name": "stdout",
     "output_type": "stream",
     "text": [
      "SOL B: [104149091] of fuel consumed by the crabs. The final position is 500\n"
     ]
    }
   ],
   "source": [
    "sol_b, pos_b = part_ab_greedy(data, POLYNOMICAL, verbose=False)\n",
    "print(\"SOL B: [{}] of fuel consumed by the crabs. The final position is {}\".format(sol_b, pos_b))"
   ]
  },
  {
   "cell_type": "markdown",
   "id": "ebd8e693-22df-4ef5-ae57-439d57ab702b",
   "metadata": {},
   "source": [
    "## TEST\n",
    "\n",
    "### A\n",
    "\n",
    "Sol = 37\n",
    "\n",
    "### B\n",
    "\n",
    "Sol = "
   ]
  },
  {
   "cell_type": "code",
   "execution_count": 10,
   "id": "8a1b207f-2008-4f94-87e1-025f8641a72a",
   "metadata": {},
   "outputs": [
    {
     "name": "stdout",
     "output_type": "stream",
     "text": [
      "New min. found: 49 for the position: 0\n",
      "New min. found: 41 for the position: 1\n",
      "New min. found: 37 for the position: 2\n",
      "SOL TEST A: [37] of fuel consumed by the crabs. The final position is 2\n"
     ]
    }
   ],
   "source": [
    "data_test = [16,1,2,0,4,2,7,1,2,14]\n",
    "sol_test_a, pos_test_a = part_ab_greedy(data_test, LINEAR, verbose=True)\n",
    "print(\"SOL TEST A: [{}] of fuel consumed by the crabs. The final position is {}\".format(sol_test_a, pos_test_a))"
   ]
  },
  {
   "cell_type": "code",
   "execution_count": 11,
   "id": "665f2361-f50e-47fd-b62c-adfd926c1d36",
   "metadata": {},
   "outputs": [
    {
     "name": "stdout",
     "output_type": "stream",
     "text": [
      "New min. found: 290 for the position: 0\n",
      "New min. found: 242 for the position: 1\n",
      "New min. found: 206 for the position: 2\n",
      "New min. found: 183 for the position: 3\n",
      "New min. found: 170 for the position: 4\n",
      "New min. found: 168 for the position: 5\n",
      "SOL TEST B: [168] of fuel consumed by the crabs. The final position is 5\n"
     ]
    }
   ],
   "source": [
    "sol_test_b, pos_test_b = part_ab_greedy(data_test, POLYNOMICAL, verbose=True)\n",
    "print(\"SOL TEST B: [{}] of fuel consumed by the crabs. The final position is {}\".format(sol_test_b, pos_test_b))"
   ]
  }
 ],
 "metadata": {
  "kernelspec": {
   "display_name": "Python 3 (ipykernel)",
   "language": "python",
   "name": "python3"
  },
  "language_info": {
   "codemirror_mode": {
    "name": "ipython",
    "version": 3
   },
   "file_extension": ".py",
   "mimetype": "text/x-python",
   "name": "python",
   "nbconvert_exporter": "python",
   "pygments_lexer": "ipython3",
   "version": "3.10.0"
  }
 },
 "nbformat": 4,
 "nbformat_minor": 5
}
