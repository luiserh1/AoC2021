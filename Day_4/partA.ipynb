{
 "cells": [
  {
   "cell_type": "code",
   "execution_count": 1,
   "id": "263335a9-74d0-48f7-a7ff-644d11d3eb9c",
   "metadata": {},
   "outputs": [],
   "source": [
    "X_COORD = 0\n",
    "Y_COORD = 1\n",
    "Z_COORD = 2"
   ]
  },
  {
   "cell_type": "code",
   "execution_count": 2,
   "id": "6b2217af-5a05-40fd-9138-f69bc760be81",
   "metadata": {},
   "outputs": [],
   "source": [
    "def print_data(sequence, board, num):\n",
    "    num_numbers = len(sequence)\n",
    "    num_boards = len(boards)\n",
    "    num = min([num, num_numbers, num_boards])\n",
    "    print(\"First {} (from a total of {}) numbers:\".format(num, num_numbers))\n",
    "    for number in sequence[:num]:\n",
    "        print(number)\n",
    "    print(\"First {} (from a total of {}) boards:\".format(num, num_boards))\n",
    "    for board in boards[:num]:\n",
    "        string = \"\"\n",
    "        for row in board:\n",
    "            string += \"\\t\".join([str(num) for num in row]) + \"\\n\"\n",
    "        print(string)"
   ]
  },
  {
   "cell_type": "code",
   "execution_count": 3,
   "id": "2b1e3399-7424-49cb-9369-91084e2ce90c",
   "metadata": {},
   "outputs": [],
   "source": [
    "def get_processed_input(input_path, sequence, boards):\n",
    "    \"\"\"The board is a 3D-matrix and the sequence is a list\"\"\"\n",
    "    with open(input_path, \"rt\") as f:\n",
    "        raw_input = f.read()\n",
    "        sequence_end_i = raw_input.index(\"\\n\\n\")\n",
    "        sequence += [int(num) for num in raw_input[:sequence_end_i].split(\",\") if num]\n",
    "        \n",
    "        raw_boards = [board for board in raw_input[sequence_end_i:].split(\"\\n\\n\") if board]\n",
    "        for raw_board in raw_boards:\n",
    "            raw_rows = [row for row in raw_board.split(\"\\n\") if row]\n",
    "            board = []\n",
    "            for raw_row in raw_rows:  # 0..num_columns-1\n",
    "                board.append([int(num) for num in raw_row.split()])\n",
    "            boards.append(board)    \n",
    "        print_data(sequence, board, 10)"
   ]
  },
  {
   "cell_type": "code",
   "execution_count": 4,
   "id": "89e302de-bb51-4818-a2fb-d4eb9875a158",
   "metadata": {},
   "outputs": [],
   "source": [
    "def part_a(sequence, boards, max_winners=1):\n",
    "    # Maps a number with a list of 3D matrices. The format (X,Y,Z) of the indices represents:\n",
    "    # X -> The matrix containing the number\n",
    "    # Y -> The row of the matrix containing the number\n",
    "    # Z -> The column of the matrix containing the number\n",
    "    num_to_mats = {}\n",
    "    num_boards = len(boards)\n",
    "    # We assume that all the boards are of the same size\n",
    "    num_rows = len(boards[0])\n",
    "    num_cols = len(boards[0][0])\n",
    "    for x in range(num_boards):\n",
    "        board = boards[x]\n",
    "        for y in range(num_rows):\n",
    "            for z in range(num_cols):\n",
    "                num = board[y][z]\n",
    "                mats_list = num_to_mats.get(num, [])\n",
    "                mats_list.append((x,y,z))\n",
    "                num_to_mats[num] = mats_list\n",
    "    \n",
    "    # Maps a matrix index to the amount of numbers in its columns and rows that are still to be pulled out. Format (X,Y,Z) where:\n",
    "    # X -> The matrix \n",
    "    # Y -> List of five counters representing the numbers left to be pulled out for each row of the matrix\n",
    "    # Z -> List of five counters representing the numbers left to be pulled out for each column of the matrix\n",
    "    left_to_win = {i:[[5 for j in range(num_rows)],[5 for j in range(num_cols)]] for i in range(num_boards)}\n",
    "    winners = []\n",
    "    pulled_nums_count = 0\n",
    "    winner_found = False\n",
    "    for pulled_num in sequence:\n",
    "        pulled_nums_count += 1\n",
    "        for mat_coords in num_to_mats.get(pulled_num):\n",
    "            lucky_mat_id = mat_coords[X_COORD]\n",
    "            lucky_mat_row = mat_coords[Y_COORD]\n",
    "            lucky_mat_col = mat_coords[Z_COORD]\n",
    "            lucky_mat = left_to_win.get(lucky_mat_id)\n",
    "            lucky_mat[0][lucky_mat_row] -= 1\n",
    "            lucky_mat[1][lucky_mat_col] -= 1\n",
    "            left_to_win[lucky_mat_id] = lucky_mat\n",
    "            if lucky_mat[0][lucky_mat_row] < 1 or lucky_mat[1][lucky_mat_col] < 1:\n",
    "                winners.append(lucky_mat_id)\n",
    "                winner_found = True\n",
    "        if winner_found:\n",
    "            break\n",
    "    \n",
    "    # Getting the scores\n",
    "    scores = []\n",
    "    num_winners = min(max_winners, len(winners))\n",
    "    for winner in winners[:num_winners]:\n",
    "        score = 0\n",
    "        board = boards[winner]\n",
    "        for row in board:\n",
    "            score += sum([num for num in row if num not in sequence[:pulled_nums_count]])\n",
    "        score *= sequence[pulled_nums_count-1]\n",
    "        scores.append((winner, score))\n",
    "    return scores"
   ]
  },
  {
   "cell_type": "code",
   "execution_count": 5,
   "id": "7a04d2ed-7d57-49ad-90dc-36cfe93ba5a6",
   "metadata": {},
   "outputs": [],
   "source": [
    "def part_b(data):\n",
    "    pass"
   ]
  },
  {
   "cell_type": "code",
   "execution_count": 6,
   "id": "07b067f0-b398-43e3-bed0-77a900bae419",
   "metadata": {},
   "outputs": [
    {
     "name": "stdout",
     "output_type": "stream",
     "text": [
      "First 10 (from a total of 100) numbers:\n",
      "87\n",
      "12\n",
      "53\n",
      "23\n",
      "31\n",
      "70\n",
      "37\n",
      "79\n",
      "95\n",
      "16\n",
      "First 10 (from a total of 100) boards:\n",
      "49\t0\t9\t90\t8\n",
      "41\t88\t56\t13\t6\n",
      "17\t11\t45\t26\t75\n",
      "29\t62\t27\t83\t36\n",
      "31\t78\t1\t55\t38\n",
      "\n",
      "52\t53\t19\t56\t80\n",
      "94\t33\t3\t78\t32\n",
      "10\t89\t66\t48\t55\n",
      "99\t23\t88\t8\t39\n",
      "76\t75\t44\t79\t14\n",
      "\n",
      "2\t60\t64\t25\t55\n",
      "89\t1\t21\t65\t41\n",
      "6\t12\t58\t11\t68\n",
      "23\t49\t44\t91\t14\n",
      "45\t52\t99\t47\t63\n",
      "\n",
      "49\t96\t0\t87\t40\n",
      "13\t22\t10\t84\t52\n",
      "95\t30\t50\t14\t1\n",
      "58\t17\t98\t45\t38\n",
      "63\t11\t74\t62\t42\n",
      "\n",
      "97\t98\t43\t36\t48\n",
      "6\t83\t89\t41\t85\n",
      "69\t79\t51\t0\t67\n",
      "62\t93\t30\t82\t45\n",
      "87\t32\t25\t34\t29\n",
      "\n",
      "31\t62\t76\t66\t93\n",
      "77\t11\t97\t51\t32\n",
      "42\t88\t68\t35\t72\n",
      "29\t79\t70\t85\t47\n",
      "91\t3\t96\t38\t14\n",
      "\n",
      "98\t77\t12\t72\t83\n",
      "22\t78\t75\t88\t11\n",
      "67\t63\t84\t60\t6\n",
      "29\t95\t73\t96\t53\n",
      "45\t21\t66\t57\t9\n",
      "\n",
      "16\t47\t66\t85\t17\n",
      "54\t87\t78\t21\t60\n",
      "45\t44\t35\t33\t32\n",
      "88\t46\t27\t49\t18\n",
      "58\t42\t72\t24\t75\n",
      "\n",
      "82\t9\t2\t68\t0\n",
      "16\t72\t83\t31\t5\n",
      "60\t34\t92\t62\t21\n",
      "13\t48\t69\t59\t81\n",
      "7\t87\t28\t42\t14\n",
      "\n",
      "29\t58\t10\t50\t19\n",
      "47\t4\t51\t22\t69\n",
      "66\t5\t83\t82\t25\n",
      "71\t23\t64\t93\t14\n",
      "80\t46\t76\t65\t33\n",
      "\n"
     ]
    }
   ],
   "source": [
    "sequence = []\n",
    "boards = []\n",
    "input_path = \"input.txt\"\n",
    "get_processed_input(input_path, sequence, boards)"
   ]
  },
  {
   "cell_type": "code",
   "execution_count": 7,
   "id": "e20633fd-30f5-4c27-96e3-a564dfd190d2",
   "metadata": {},
   "outputs": [
    {
     "name": "stdout",
     "output_type": "stream",
     "text": [
      "SOL A: [2745] is the score of 13, the winner board\n"
     ]
    }
   ],
   "source": [
    "board_a, sol_a = part_a(sequence, boards)[0]\n",
    "print(\"SOL A: [{}] is the score of {}, the winner board\".format(sol_a, board_a))"
   ]
  },
  {
   "cell_type": "markdown",
   "id": "eac97568-fc21-4015-8e85-822ae90cca91",
   "metadata": {},
   "source": [
    "## Example tests\n",
    "### A\n",
    "\n",
    "Winner: Third (index 2)\n",
    "\n",
    "Score: 4512"
   ]
  },
  {
   "cell_type": "code",
   "execution_count": 8,
   "id": "f1eb4f4f-4e8c-4ae7-a275-ee462801e330",
   "metadata": {},
   "outputs": [],
   "source": [
    "test_sequence = [7,4,9,5,11,17,23,2,0,14,21,24,10,16,13,6,15,25,12,22,18,20,8,19,3,26,1]\n",
    "test_boards = [\n",
    "    [[22,13, 17, 11, 0],\n",
    "    [8, 2, 23, 4, 24],\n",
    "    [21, 9, 14, 16, 7],\n",
    "    [6, 10, 3, 18, 5],\n",
    "    [1, 12, 20, 15, 19]],\n",
    "\n",
    "    [[3, 15, 0, 2, 22],\n",
    "    [9, 18, 13, 17, 5],\n",
    "    [19, 8, 7, 25, 23],\n",
    "    [20, 11, 10, 24, 4],\n",
    "    [14, 21, 16, 12, 6]],\n",
    "\n",
    "    [[14, 21, 17, 24, 4],\n",
    "    [10, 16, 15, 9, 19],\n",
    "    [18,  8, 23, 26, 20],\n",
    "    [22, 11, 13, 6, 5],\n",
    "    [2, 0, 12, 3, 7]]\n",
    "]"
   ]
  },
  {
   "cell_type": "code",
   "execution_count": 9,
   "id": "01b9ad0d-1125-4f46-b518-983553840a6a",
   "metadata": {},
   "outputs": [
    {
     "name": "stdout",
     "output_type": "stream",
     "text": [
      "SOL TEST: [4512] is the score of 2, the winner board\n"
     ]
    }
   ],
   "source": [
    "board_test, sol_test = part_a(test_sequence, test_boards)[0]\n",
    "print(\"SOL TEST: [{}] is the score of {}, the winner board\".format(sol_test, board_test))"
   ]
  }
 ],
 "metadata": {
  "kernelspec": {
   "display_name": "Python 3 (ipykernel)",
   "language": "python",
   "name": "python3"
  },
  "language_info": {
   "codemirror_mode": {
    "name": "ipython",
    "version": 3
   },
   "file_extension": ".py",
   "mimetype": "text/x-python",
   "name": "python",
   "nbconvert_exporter": "python",
   "pygments_lexer": "ipython3",
   "version": "3.10.0"
  }
 },
 "nbformat": 4,
 "nbformat_minor": 5
}
