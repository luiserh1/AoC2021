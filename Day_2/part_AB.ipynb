{
 "cells": [
  {
   "cell_type": "code",
   "execution_count": 1,
   "id": "ca4fa2b6-aa53-430c-b3d8-b3df178fbc4c",
   "metadata": {},
   "outputs": [],
   "source": [
    "FORWARD = 0\n",
    "UP = 1\n",
    "DOWN = 2"
   ]
  },
  {
   "cell_type": "code",
   "execution_count": 2,
   "id": "f5b1c103-c176-4574-b066-bea2c7092d6d",
   "metadata": {},
   "outputs": [],
   "source": [
    "def print_data(data, num):\n",
    "    num_commands = len(data)\n",
    "    num = min(num, num_commands)\n",
    "    print(\"TYPES:\\nFORWARD -> 0\\tUP -> 1\\t DOWN -> 2\\t\")\n",
    "    print(\"First {} (from a total of {}) commands:\\n\\nTYPE\\t-\\tDISTANCE\\n=========================\".format(\n",
    "        num, num_commands))\n",
    "    for full_command in data[:num]:\n",
    "        print(\"{}\\t-\\t{}\".format(full_command[0], full_command[1]))"
   ]
  },
  {
   "cell_type": "code",
   "execution_count": 3,
   "id": "7dc5a7dd-3180-42c5-b04f-63ade7b17457",
   "metadata": {},
   "outputs": [],
   "source": [
    "def get_processed_input(input_path, data):\n",
    "    \"\"\"The data is a List of Tuples where the first member represents the command and the second represents the distance\"\"\"\n",
    "    with open(input_path, \"rt\") as f:\n",
    "        lines = f.readlines()\n",
    "        for line in lines:\n",
    "            full_command = line.split(\" \")\n",
    "            distance = int(full_command[1])\n",
    "            command_type = full_command[0]\n",
    "            if command_type == \"forward\":\n",
    "                data.append((FORWARD, distance))\n",
    "            elif command_type == \"up\":\n",
    "                data.append((UP, distance))\n",
    "            elif command_type == \"down\":\n",
    "                data.append((DOWN, distance))\n",
    "        print_data(data, 10)"
   ]
  },
  {
   "cell_type": "code",
   "execution_count": 4,
   "id": "5f7a5685-9471-4433-bb45-cc1964f017a1",
   "metadata": {},
   "outputs": [],
   "source": [
    "def part_a(data):\n",
    "    h_pos = depth = 0\n",
    "    for command in data:\n",
    "        if command[0] == FORWARD:\n",
    "            h_pos += command[1]\n",
    "        elif command[0] == UP:\n",
    "            depth -= command[1]\n",
    "        elif command[0] == DOWN:\n",
    "            depth += command[1]\n",
    "    return h_pos * depth, h_pos, depth"
   ]
  },
  {
   "cell_type": "code",
   "execution_count": 5,
   "id": "08279195-3389-45dc-b130-b03754391526",
   "metadata": {},
   "outputs": [],
   "source": [
    "def part_b(data):\n",
    "    h_pos = depth = aim = 0\n",
    "    for command in data:\n",
    "        if command[0] == FORWARD:\n",
    "            h_delta = command[1]\n",
    "            h_pos += h_delta\n",
    "            depth += h_delta * aim\n",
    "        elif command[0] == UP:\n",
    "            aim -= command[1]\n",
    "        elif command[0] == DOWN:\n",
    "            aim += command[1]\n",
    "    return h_pos * depth, h_pos, depth, aim"
   ]
  },
  {
   "cell_type": "code",
   "execution_count": 6,
   "id": "f7f9efa4-2a37-472a-ac8e-51ec96e6104f",
   "metadata": {},
   "outputs": [
    {
     "name": "stdout",
     "output_type": "stream",
     "text": [
      "TYPES:\n",
      "FORWARD -> 0\tUP -> 1\t DOWN -> 2\t\n",
      "First 10 (from a total of 1000) commands:\n",
      "\n",
      "TYPE\t-\tDISTANCE\n",
      "=========================\n",
      "0\t-\t8\n",
      "0\t-\t3\n",
      "2\t-\t8\n",
      "0\t-\t4\n",
      "2\t-\t2\n",
      "2\t-\t4\n",
      "2\t-\t8\n",
      "2\t-\t4\n",
      "2\t-\t7\n",
      "1\t-\t4\n"
     ]
    }
   ],
   "source": [
    "data = []\n",
    "input_path = \"input.txt\"\n",
    "get_processed_input(input_path, data)"
   ]
  },
  {
   "cell_type": "code",
   "execution_count": 7,
   "id": "dab2a5fd-51b9-4a5d-b761-361b09f86c44",
   "metadata": {},
   "outputs": [
    {
     "name": "stdout",
     "output_type": "stream",
     "text": [
      "SOL A: [1813801] is the result of multiplying 911 of depth and 1991 of horizonal position\n"
     ]
    }
   ],
   "source": [
    "sol_a, h_pos_a, depth_a = part_a(data)\n",
    "print(\"SOL A: [{}] is the result of multiplying {} of depth and {} of horizonal position\".format(\n",
    "    sol_a, depth_a, h_pos_a))"
   ]
  },
  {
   "cell_type": "code",
   "execution_count": 8,
   "id": "bb773508-37e9-4579-96e4-c1c9d2e81560",
   "metadata": {},
   "outputs": [
    {
     "name": "stdout",
     "output_type": "stream",
     "text": [
      "SOL B: [1960569556] is the result of multiplying 984716 of depth and 1991 of horizonal position.Final aim: 911\n"
     ]
    }
   ],
   "source": [
    "sol_b, h_pos_b, depth_b, aim = part_b(data)\n",
    "print(\"SOL B: [{}] is the result of multiplying {} of depth and {} of horizonal position.Final aim: {}\".format(\n",
    "    sol_b, depth_b, h_pos_b, aim))"
   ]
  }
 ],
 "metadata": {
  "kernelspec": {
   "display_name": "Python 3 (ipykernel)",
   "language": "python",
   "name": "python3"
  },
  "language_info": {
   "codemirror_mode": {
    "name": "ipython",
    "version": 3
   },
   "file_extension": ".py",
   "mimetype": "text/x-python",
   "name": "python",
   "nbconvert_exporter": "python",
   "pygments_lexer": "ipython3",
   "version": "3.10.0"
  }
 },
 "nbformat": 4,
 "nbformat_minor": 5
}
